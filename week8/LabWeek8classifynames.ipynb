{
 "cells": [
  {
   "cell_type": "code",
   "execution_count": 1,
   "metadata": {
    "collapsed": true
   },
   "outputs": [],
   "source": [
    "import nltk"
   ]
  },
  {
   "cell_type": "code",
   "execution_count": 2,
   "metadata": {},
   "outputs": [
    {
     "name": "stdout",
     "output_type": "stream",
     "text": [
      "{'last_letter': 'k'}\n"
     ]
    }
   ],
   "source": [
    "# define a feature extraction function for each name\n",
    "def gender_features(word):\n",
    "    return{'last_letter': word[-1]}\n",
    "print(gender_features('Shrek'))"
   ]
  },
  {
   "cell_type": "code",
   "execution_count": 3,
   "metadata": {},
   "outputs": [
    {
     "name": "stdout",
     "output_type": "stream",
     "text": [
      "[u'Aamir', u'Aaron', u'Abbey', u'Abbie', u'Abbot', u'Abbott', u'Abby', u'Abdel', u'Abdul', u'Abdulkarim', u'Abdullah', u'Abe', u'Abel', u'Abelard', u'Abner', u'Abraham', u'Abram', u'Ace', u'Adair', u'Adam']\n",
      "[u'Abagael', u'Abagail', u'Abbe', u'Abbey', u'Abbi', u'Abbie', u'Abby', u'Abigael', u'Abigail', u'Abigale', u'Abra', u'Acacia', u'Ada', u'Adah', u'Adaline', u'Adara', u'Addie', u'Addis', u'Adel', u'Adela']\n"
     ]
    }
   ],
   "source": [
    "# resource for male and female first names\n",
    "from nltk.corpus import names\n",
    "print(names.words('male.txt')[:20])\n",
    "print(names.words('female.txt')[:20])"
   ]
  },
  {
   "cell_type": "code",
   "execution_count": 4,
   "metadata": {},
   "outputs": [
    {
     "name": "stdout",
     "output_type": "stream",
     "text": [
      "7944\n",
      "[(u'Aamir', 'male'), (u'Aaron', 'male'), (u'Abbey', 'male'), (u'Abbie', 'male'), (u'Abbot', 'male'), (u'Abbott', 'male'), (u'Abby', 'male'), (u'Abdel', 'male'), (u'Abdul', 'male'), (u'Abdulkarim', 'male'), (u'Abdullah', 'male'), (u'Abe', 'male'), (u'Abel', 'male'), (u'Abelard', 'male'), (u'Abner', 'male'), (u'Abraham', 'male'), (u'Abram', 'male'), (u'Ace', 'male'), (u'Adair', 'male'), (u'Adam', 'male')]\n",
      "[(u'Zena', 'female'), (u'Zenia', 'female'), (u'Zia', 'female'), (u'Zilvia', 'female'), (u'Zita', 'female'), (u'Zitella', 'female'), (u'Zoe', 'female'), (u'Zola', 'female'), (u'Zonda', 'female'), (u'Zondra', 'female'), (u'Zonnya', 'female'), (u'Zora', 'female'), (u'Zorah', 'female'), (u'Zorana', 'female'), (u'Zorina', 'female'), (u'Zorine', 'female'), (u'Zsa Zsa', 'female'), (u'Zsazsa', 'female'), (u'Zulema', 'female'), (u'Zuzana', 'female')]\n"
     ]
    }
   ],
   "source": [
    "# make list of male and female names paired with gender\n",
    "namesgender = ([(name, 'male') for name in names.words('male.txt')] +\n",
    "          [(name, 'female') for name in names.words('female.txt')])\n",
    "print(len(namesgender))\n",
    "print(namesgender[:20])   # first 20\n",
    "print(namesgender[7924:])  # last 20"
   ]
  },
  {
   "cell_type": "code",
   "execution_count": 5,
   "metadata": {},
   "outputs": [
    {
     "name": "stdout",
     "output_type": "stream",
     "text": [
      "[(u'Dennis', 'male'), (u'Elfie', 'female'), (u'Emyle', 'female'), (u'Duffie', 'male'), (u'Andre', 'male'), (u'Godiva', 'female'), (u'Ollie', 'female'), (u'Lolly', 'female'), (u'Lark', 'female'), (u'Maggie', 'female'), (u'Rivkah', 'female'), (u'Hermy', 'male'), (u'Shina', 'female'), (u'Ben', 'male'), (u'Jennilee', 'female'), (u'Stacia', 'female'), (u'Chrysa', 'female'), (u'Mariejeanne', 'female'), (u'Garcon', 'male'), (u'Patsy', 'female')]\n"
     ]
    }
   ],
   "source": [
    "# put the list into random order\n",
    "import random\n",
    "random.shuffle(namesgender)\n",
    "print(namesgender[:20])"
   ]
  },
  {
   "cell_type": "code",
   "execution_count": 6,
   "metadata": {},
   "outputs": [
    {
     "name": "stdout",
     "output_type": "stream",
     "text": [
      "[({'last_letter': u's'}, 'male'), ({'last_letter': u'e'}, 'female'), ({'last_letter': u'e'}, 'female'), ({'last_letter': u'e'}, 'male'), ({'last_letter': u'e'}, 'male'), ({'last_letter': u'a'}, 'female'), ({'last_letter': u'e'}, 'female'), ({'last_letter': u'y'}, 'female'), ({'last_letter': u'k'}, 'female'), ({'last_letter': u'e'}, 'female'), ({'last_letter': u'h'}, 'female'), ({'last_letter': u'y'}, 'male'), ({'last_letter': u'a'}, 'female'), ({'last_letter': u'n'}, 'male'), ({'last_letter': u'e'}, 'female'), ({'last_letter': u'a'}, 'female'), ({'last_letter': u'a'}, 'female'), ({'last_letter': u'e'}, 'female'), ({'last_letter': u'n'}, 'male'), ({'last_letter': u'y'}, 'female')]\n"
     ]
    }
   ],
   "source": [
    "# featuresets represent each name as features and a label\n",
    "featuresets = [(gender_features(n), g) for (n, g) in namesgender]\n",
    "print(featuresets[:20])"
   ]
  },
  {
   "cell_type": "code",
   "execution_count": 7,
   "metadata": {},
   "outputs": [
    {
     "name": "stdout",
     "output_type": "stream",
     "text": [
      "male\n",
      "female\n"
     ]
    }
   ],
   "source": [
    "# create training and test sets, run a classifier and show the accuracy\n",
    "train_set, test_set = featuresets[500:], featuresets[:500]\n",
    "classifier = nltk.NaiveBayesClassifier.train(train_set)\n",
    "\n",
    "# classify new instances\n",
    "print(classifier.classify(gender_features('Neo')))\n",
    "print(classifier.classify(gender_features('Trinity')))"
   ]
  },
  {
   "cell_type": "code",
   "execution_count": 8,
   "metadata": {},
   "outputs": [
    {
     "name": "stdout",
     "output_type": "stream",
     "text": [
      "0.76\n"
     ]
    }
   ],
   "source": [
    "# classify accuracy function runs the classifier on the test set and reports\n",
    "#   comparisons between predicted labels and actual/gold labels\n",
    "print(nltk.classify.accuracy(classifier, test_set))"
   ]
  },
  {
   "cell_type": "code",
   "execution_count": 9,
   "metadata": {},
   "outputs": [
    {
     "name": "stdout",
     "output_type": "stream",
     "text": [
      "Most Informative Features\n",
      "             last_letter = u'k'             male : female =     44.8 : 1.0\n",
      "             last_letter = u'a'           female : male   =     36.8 : 1.0\n",
      "             last_letter = u'f'             male : female =     16.8 : 1.0\n",
      "             last_letter = u'p'             male : female =     12.0 : 1.0\n",
      "             last_letter = u'v'             male : female =     11.3 : 1.0\n",
      "             last_letter = u'd'             male : female =      9.5 : 1.0\n",
      "             last_letter = u'm'             male : female =      9.4 : 1.0\n",
      "             last_letter = u'o'             male : female =      8.9 : 1.0\n",
      "             last_letter = u'r'             male : female =      6.7 : 1.0\n",
      "             last_letter = u'w'             male : female =      5.1 : 1.0\n",
      "             last_letter = u'g'             male : female =      4.6 : 1.0\n",
      "             last_letter = u's'             male : female =      4.3 : 1.0\n",
      "             last_letter = u'z'             male : female =      4.0 : 1.0\n",
      "             last_letter = u'j'             male : female =      4.0 : 1.0\n",
      "             last_letter = u'i'           female : male   =      3.9 : 1.0\n",
      "             last_letter = u't'             male : female =      3.9 : 1.0\n",
      "             last_letter = u'u'             male : female =      3.6 : 1.0\n",
      "             last_letter = u'b'             male : female =      3.5 : 1.0\n",
      "             last_letter = u'n'             male : female =      2.0 : 1.0\n",
      "             last_letter = u'e'           female : male   =      1.8 : 1.0\n",
      "None\n"
     ]
    }
   ],
   "source": [
    "# this function available for naive bayes classifiers\n",
    "print(classifier.show_most_informative_features(20))"
   ]
  },
  {
   "cell_type": "code",
   "execution_count": 10,
   "metadata": {
    "collapsed": true
   },
   "outputs": [],
   "source": [
    "# creating lots of features\n",
    "#   there are probably too many features but we are demonstrating different\n",
    "#     types of features\n",
    "def gender_features2(name):\n",
    "    features = {}\n",
    "    features[\"firstletter\"] = name[0].lower()\n",
    "    features[\"lastletter\"] = name[-1].lower()\n",
    "    for letter in 'abcdefghijklmnopqrstuvwxyz':\n",
    "        features[\"count({})\".format(letter)] = name.lower().count(letter)\n",
    "        features[\"has({})\".format(letter)] = (letter in name.lower())\n",
    "    return features"
   ]
  },
  {
   "cell_type": "code",
   "execution_count": 11,
   "metadata": {},
   "outputs": [
    {
     "name": "stdout",
     "output_type": "stream",
     "text": [
      "54\n",
      "{'count(u)': 0, 'has(d)': False, 'count(b)': 0, 'count(w)': 0, 'has(b)': False, 'count(l)': 0, 'count(q)': 0, 'count(n)': 0, 'has(j)': False, 'count(s)': 1, 'count(h)': 1, 'has(h)': True, 'has(y)': False, 'count(j)': 0, 'has(f)': False, 'has(o)': False, 'count(x)': 0, 'has(m)': False, 'count(z)': 0, 'has(k)': True, 'has(u)': False, 'count(d)': 0, 'has(s)': True, 'count(f)': 0, 'lastletter': 'k', 'has(q)': False, 'has(w)': False, 'has(e)': True, 'has(z)': False, 'count(t)': 0, 'count(c)': 0, 'has(c)': False, 'has(x)': False, 'count(v)': 0, 'count(m)': 0, 'has(a)': False, 'has(v)': False, 'count(p)': 0, 'count(o)': 0, 'has(i)': False, 'count(i)': 0, 'has(r)': True, 'has(g)': False, 'count(k)': 1, 'firstletter': 's', 'count(y)': 0, 'has(n)': False, 'has(l)': False, 'count(e)': 1, 'has(t)': False, 'count(g)': 0, 'count(r)': 1, 'count(a)': 0, 'has(p)': False}\n"
     ]
    }
   ],
   "source": [
    "features = gender_features2('Shrek')\n",
    "print(len(features))\n",
    "print(features)"
   ]
  },
  {
   "cell_type": "code",
   "execution_count": 12,
   "metadata": {
    "collapsed": true
   },
   "outputs": [],
   "source": [
    "# create feature sets using this function\n",
    "featuresets2 = [(gender_features2(n), g) for (n, g) in namesgender]"
   ]
  },
  {
   "cell_type": "code",
   "execution_count": 13,
   "metadata": {},
   "outputs": [
    {
     "name": "stdout",
     "output_type": "stream",
     "text": [
      "0.75\n"
     ]
    }
   ],
   "source": [
    "# create new training and test sets, classify and look at accuracy\n",
    "train_set, test_set = featuresets2[500:], featuresets2[:500]\n",
    "classifier = nltk.NaiveBayesClassifier.train(train_set)\n",
    "print(nltk.classify.accuracy(classifier, test_set))"
   ]
  },
  {
   "cell_type": "code",
   "execution_count": 14,
   "metadata": {
    "collapsed": true
   },
   "outputs": [],
   "source": [
    "## Experiment related to lab exercise for today\n",
    "# go back and separate the names into training and test\n",
    "train_names = namesgender[500:]\n",
    "test_names = namesgender[:500]"
   ]
  },
  {
   "cell_type": "code",
   "execution_count": 15,
   "metadata": {},
   "outputs": [
    {
     "name": "stdout",
     "output_type": "stream",
     "text": [
      "0.76\n"
     ]
    }
   ],
   "source": [
    "# use our original features to train a classify and test on the development test set\n",
    "train_set = [(gender_features(n), g) for (n, g) in train_names]\n",
    "test_set = [(gender_features(n), g) for (n, g) in test_names]\n",
    "classifier = nltk.NaiveBayesClassifier.train(train_set)\n",
    "\n",
    "# save the classifier accuracy for use in the exercise\n",
    "print(nltk.classify.accuracy(classifier, test_set))"
   ]
  },
  {
   "cell_type": "code",
   "execution_count": 16,
   "metadata": {
    "collapsed": true
   },
   "outputs": [],
   "source": [
    "# define a function that will compare the classifier labels with the gold standard labels\n",
    "def geterrors(test):\n",
    "    errors = []\n",
    "    for (name, tag) in test:\n",
    "        guess = classifier.classify(gender_features(name))\n",
    "        if guess != tag:\n",
    "            errors.append( (tag, guess, name) )\n",
    "    return errors"
   ]
  },
  {
   "cell_type": "code",
   "execution_count": 17,
   "metadata": {},
   "outputs": [
    {
     "name": "stdout",
     "output_type": "stream",
     "text": [
      "120\n"
     ]
    }
   ],
   "source": [
    "errors = geterrors(test_names)\n",
    "print(len(errors))"
   ]
  },
  {
   "cell_type": "code",
   "execution_count": 18,
   "metadata": {},
   "outputs": [
    {
     "name": "stdout",
     "output_type": "stream",
     "text": [
      "correct=female   guess=male     name=Adrien                        \n",
      "correct=female   guess=male     name=Ailyn                         \n",
      "correct=female   guess=male     name=Aleen                         \n",
      "correct=female   guess=male     name=Beau                          \n",
      "correct=female   guess=male     name=Betteann                      \n",
      "correct=female   guess=male     name=Brynn                         \n",
      "correct=female   guess=male     name=Cameo                         \n",
      "correct=female   guess=male     name=Cass                          \n",
      "correct=female   guess=male     name=Christean                     \n",
      "correct=female   guess=male     name=Cloris                        \n",
      "correct=female   guess=male     name=Colleen                       \n",
      "correct=female   guess=male     name=Damaris                       \n",
      "correct=female   guess=male     name=Daryn                         \n",
      "correct=female   guess=male     name=Doloritas                     \n",
      "correct=female   guess=male     name=Em                            \n",
      "correct=female   guess=male     name=Erin                          \n",
      "correct=female   guess=male     name=Ethel                         \n",
      "correct=female   guess=male     name=Fawn                          \n",
      "correct=female   guess=male     name=Germain                       \n",
      "correct=female   guess=male     name=Glyn                          \n",
      "correct=female   guess=male     name=Idell                         \n",
      "correct=female   guess=male     name=Jennifer                      \n",
      "correct=female   guess=male     name=Jo-Ann                        \n",
      "correct=female   guess=male     name=Kiersten                      \n",
      "correct=female   guess=male     name=Kylen                         \n",
      "correct=female   guess=male     name=Lark                          \n",
      "correct=female   guess=male     name=Laureen                       \n",
      "correct=female   guess=male     name=Madel                         \n",
      "correct=female   guess=male     name=Maren                         \n",
      "correct=female   guess=male     name=Margalo                       \n",
      "correct=female   guess=male     name=Maureen                       \n",
      "correct=female   guess=male     name=Melisent                      \n",
      "correct=female   guess=male     name=Michel                        \n",
      "correct=female   guess=male     name=Mikako                        \n",
      "correct=female   guess=male     name=Mirabel                       \n",
      "correct=female   guess=male     name=Nadean                        \n",
      "correct=female   guess=male     name=Persis                        \n",
      "correct=female   guess=male     name=Rakel                         \n",
      "correct=female   guess=male     name=Rosaleen                      \n",
      "correct=female   guess=male     name=Scarlet                       \n",
      "correct=female   guess=male     name=Sean                          \n",
      "correct=female   guess=male     name=Sharron                       \n",
      "correct=female   guess=male     name=Shawn                         \n",
      "correct=female   guess=male     name=Sherill                       \n",
      "correct=female   guess=male     name=Sherilyn                      \n",
      "correct=female   guess=male     name=Starlin                       \n",
      "correct=female   guess=male     name=Veradis                       \n",
      "correct=female   guess=male     name=Vivyan                        \n",
      "correct=male     guess=female   name=Ace                           \n",
      "correct=male     guess=female   name=Andre                         \n",
      "correct=male     guess=female   name=Antone                        \n",
      "correct=male     guess=female   name=Ari                           \n",
      "correct=male     guess=female   name=Avery                         \n",
      "correct=male     guess=female   name=Benjy                         \n",
      "correct=male     guess=female   name=Bentley                       \n",
      "correct=male     guess=female   name=Berkeley                      \n",
      "correct=male     guess=female   name=Burnaby                       \n",
      "correct=male     guess=female   name=Carey                         \n",
      "correct=male     guess=female   name=Chauncey                      \n",
      "correct=male     guess=female   name=Clemmie                       \n",
      "correct=male     guess=female   name=Clyde                         \n",
      "correct=male     guess=female   name=Dannie                        \n",
      "correct=male     guess=female   name=Darcy                         \n",
      "correct=male     guess=female   name=Dimitri                       \n",
      "correct=male     guess=female   name=Drake                         \n",
      "correct=male     guess=female   name=Duffie                        \n",
      "correct=male     guess=female   name=Duke                          \n",
      "correct=male     guess=female   name=Frankie                       \n",
      "correct=male     guess=female   name=Georgia                       \n",
      "correct=male     guess=female   name=Geri                          \n",
      "correct=male     guess=female   name=Hadleigh                      \n",
      "correct=male     guess=female   name=Haley                         \n",
      "correct=male     guess=female   name=Hermy                         \n",
      "correct=male     guess=female   name=Hilary                        \n",
      "correct=male     guess=female   name=Hodge                         \n",
      "correct=male     guess=female   name=Horace                        \n",
      "correct=male     guess=female   name=Ikey                          \n",
      "correct=male     guess=female   name=Isaiah                        \n",
      "correct=male     guess=female   name=Jerri                         \n",
      "correct=male     guess=female   name=Johnnie                       \n",
      "correct=male     guess=female   name=Jory                          \n",
      "correct=male     guess=female   name=Lawerence                     \n",
      "correct=male     guess=female   name=Leslie                        \n",
      "correct=male     guess=female   name=Lindsey                       \n",
      "correct=male     guess=female   name=Luigi                         \n",
      "correct=male     guess=female   name=Marsh                         \n",
      "correct=male     guess=female   name=Maury                         \n",
      "correct=male     guess=female   name=Michale                       \n",
      "correct=male     guess=female   name=Mitch                         \n",
      "correct=male     guess=female   name=Monroe                        \n",
      "correct=male     guess=female   name=Myke                          \n",
      "correct=male     guess=female   name=Niki                          \n",
      "correct=male     guess=female   name=Noble                         \n",
      "correct=male     guess=female   name=Ole                           \n",
      "correct=male     guess=female   name=Orbadiah                      \n",
      "correct=male     guess=female   name=Penny                         \n",
      "correct=male     guess=female   name=Ray                           \n",
      "correct=male     guess=female   name=Rene                          \n",
      "correct=male     guess=female   name=Rice                          \n",
      "correct=male     guess=female   name=Ritch                         \n",
      "correct=male     guess=female   name=Rube                          \n",
      "correct=male     guess=female   name=Rusty                         \n",
      "correct=male     guess=female   name=Sasha                         \n",
      "correct=male     guess=female   name=Scarface                      \n",
      "correct=male     guess=female   name=Tammie                        \n",
      "correct=male     guess=female   name=Temple                        \n",
      "correct=male     guess=female   name=Thane                         \n",
      "correct=male     guess=female   name=Toby                          \n",
      "correct=male     guess=female   name=Tuckie                        \n",
      "correct=male     guess=female   name=Vasili                        \n",
      "correct=male     guess=female   name=Vassily                       \n",
      "correct=male     guess=female   name=Verne                         \n",
      "correct=male     guess=female   name=Verney                        \n",
      "correct=male     guess=female   name=Waite                         \n",
      "correct=male     guess=female   name=Wally                         \n",
      "correct=male     guess=female   name=Wolfy                         \n",
      "correct=male     guess=female   name=Woodie                        \n",
      "correct=male     guess=female   name=Zacharia                      \n",
      "correct=male     guess=female   name=Zachariah                     \n",
      "correct=male     guess=female   name=Zane                          \n"
     ]
    }
   ],
   "source": [
    "# define a function to print the errors\n",
    "def printerrors(errors):\n",
    "    for (tag, guess, name) in sorted(errors):\n",
    "        print('correct={:<8s} guess={:<8s} name={:<30s}'.format(tag, guess, name))\n",
    "\n",
    "printerrors(errors)"
   ]
  },
  {
   "cell_type": "code",
   "execution_count": 19,
   "metadata": {},
   "outputs": [
    {
     "name": "stdout",
     "output_type": "stream",
     "text": [
      "['male', 'female', 'female', 'male', 'male', 'female', 'female', 'female', 'female', 'female', 'female', 'male', 'female', 'male', 'female', 'female', 'female', 'female', 'male', 'female', 'male', 'female', 'female', 'female', 'male', 'male', 'female', 'female', 'female', 'male']\n",
      "['male', 'female', 'female', 'female', 'female', 'female', 'female', 'female', 'male', 'female', 'female', 'female', 'female', 'male', 'female', 'female', 'female', 'female', 'male', 'female', 'female', 'female', 'female', 'female', 'male', 'male', 'female', 'female', 'female', 'male']\n"
     ]
    }
   ],
   "source": [
    "# evaluation measures showing performance of classifier\n",
    "\n",
    "from nltk.metrics import *\n",
    "\n",
    "reflist = []\n",
    "testlist = []\n",
    "for (features, label) in test_set:\n",
    "    reflist.append(label)\n",
    "    testlist.append(classifier.classify(features))\n",
    "\n",
    "print(reflist[:30])\n",
    "print(testlist[:30])"
   ]
  },
  {
   "cell_type": "code",
   "execution_count": 20,
   "metadata": {},
   "outputs": [
    {
     "name": "stdout",
     "output_type": "stream",
     "text": [
      "       |   f     |\n",
      "       |   e     |\n",
      "       |   m   m |\n",
      "       |   a   a |\n",
      "       |   l   l |\n",
      "       |   e   e |\n",
      "-------+---------+\n",
      "female |<253> 48 |\n",
      "  male |  72<127>|\n",
      "-------+---------+\n",
      "(row = reference; col = test)\n",
      "\n"
     ]
    }
   ],
   "source": [
    "# Confusion matrix gives true positives, false negatives, false positives, and true negatives\n",
    "#   where we interpret female as \"yes\" and male as \"no\"\n",
    "cm = ConfusionMatrix(reflist, testlist)\n",
    "print(cm)"
   ]
  },
  {
   "cell_type": "code",
   "execution_count": 21,
   "metadata": {},
   "outputs": [
    {
     "name": "stdout",
     "output_type": "stream",
     "text": [
      "set([1, 2, 5, 6, 7, 8, 9, 10, 12, 14, 15, 16, 17, 19, 21, 22, 23, 26, 27, 28, 32, 33, 34, 36, 39, 41, 44, 45, 46, 48, 49, 57, 58, 59, 60, 61, 62, 64, 65, 66, 73, 74, 75, 77, 79, 80, 81, 82, 83, 85, 87, 88, 91, 92, 93, 94, 95, 97, 98, 99, 100, 101, 102, 103, 104, 105, 107, 108, 109, 111, 112, 113, 114, 115, 116, 118, 119, 121, 122, 123, 124, 125, 126, 127, 128, 132, 133, 134, 135, 136, 138, 139, 142, 143, 144, 146, 147, 151, 152, 154, 155, 158, 159, 160, 162, 164, 170, 171, 172, 173, 174, 175, 177, 181, 183, 184, 185, 188, 190, 191, 192, 193, 194, 195, 197, 199, 200, 201, 202, 203, 206, 207, 208, 209, 210, 211, 214, 216, 218, 220, 221, 222, 223, 224, 225, 226, 228, 229, 231, 233, 234, 235, 238, 239, 243, 247, 248, 249, 253, 254, 257, 258, 259, 260, 261, 264, 265, 266, 267, 268, 270, 274, 275, 276, 279, 282, 283, 285, 286, 287, 288, 289, 290, 292, 295, 298, 300, 302, 303, 304, 305, 306, 308, 309, 310, 311, 314, 315, 316, 319, 320, 321, 324, 326, 328, 330, 331, 333, 336, 337, 338, 340, 344, 345, 346, 347, 351, 352, 353, 354, 356, 357, 359, 362, 363, 364, 365, 367, 368, 369, 372, 373, 377, 378, 384, 385, 387, 388, 389, 392, 393, 394, 396, 403, 404, 406, 408, 410, 413, 415, 416, 420, 421, 422, 423, 426, 427, 429, 431, 432, 433, 434, 438, 439, 440, 441, 443, 444, 445, 448, 449, 450, 452, 453, 455, 457, 459, 460, 462, 463, 464, 465, 467, 469, 471, 472, 474, 475, 477, 478, 479, 482, 483, 484, 486, 489, 491, 492, 494, 495, 499])\n"
     ]
    }
   ],
   "source": [
    "# define a set of item identifiers that are gold labels and a set of item identifiers that are predicted labels\n",
    "# this uses index numbers for the labels\n",
    "\n",
    "reffemale = set([i for i,label in enumerate(reflist) if label == 'female'])\n",
    "refmale = set([i for i,label in enumerate(reflist) if label == 'male'])\n",
    "testfemale = set([i for i,label in enumerate(testlist) if label == 'female'])\n",
    "testmale = set([i for i,label in enumerate(testlist) if label == 'male'])\n",
    "\n",
    "print(reffemale)"
   ]
  },
  {
   "cell_type": "code",
   "execution_count": 22,
   "metadata": {},
   "outputs": [
    {
     "name": "stdout",
     "output_type": "stream",
     "text": [
      "('female', 'precision:', 0.7784615384615384)\n",
      "('female', 'recall:', 0.840531561461794)\n",
      "('female', 'F-measure:', 0.8083067092651758)\n",
      "('male', 'precision:', 0.7257142857142858)\n",
      "('male', 'recall:', 0.6381909547738693)\n",
      "('male', 'F-measure:', 0.6791443850267379)\n"
     ]
    }
   ],
   "source": [
    "# compute precision, recall and F-measure for each label\n",
    "\n",
    "def printmeasures(label, refset, testset):\n",
    "    print(label, 'precision:', precision(refset, testset))\n",
    "    print(label, 'recall:', recall(refset, testset)) \n",
    "    print(label, 'F-measure:', f_measure(refset, testset))\n",
    "\n",
    "printmeasures('female', reffemale, testfemale)\n",
    "printmeasures('male', refmale, testmale)"
   ]
  },
  {
   "cell_type": "code",
   "execution_count": 47,
   "metadata": {},
   "outputs": [
    {
     "name": "stdout",
     "output_type": "stream",
     "text": [
      "{'suffix2': 'e', 'suffix1': 'k'}\n"
     ]
    }
   ],
   "source": [
    "# another feature extraction function for the exercise\n",
    "def gender_features3(word):\n",
    "    return {'suffix1': word[-1],'suffix2': word[-2]}\n",
    "\n",
    "print(gender_features3('Shrek'))"
   ]
  },
  {
   "cell_type": "code",
   "execution_count": 48,
   "metadata": {},
   "outputs": [],
   "source": [
    "train_set3 = [(gender_features3(n), g) for (n, g) in train_names]\n",
    "test_set3  = [(gender_features3(n), g) for (n, g) in test_names]"
   ]
  },
  {
   "cell_type": "code",
   "execution_count": 49,
   "metadata": {
    "collapsed": true
   },
   "outputs": [],
   "source": [
    "\n",
    "classifier3 = nltk.NaiveBayesClassifier.train(train_set3)"
   ]
  },
  {
   "cell_type": "code",
   "execution_count": 50,
   "metadata": {},
   "outputs": [
    {
     "name": "stdout",
     "output_type": "stream",
     "text": [
      "0.754\n"
     ]
    }
   ],
   "source": [
    "print(nltk.classify.accuracy(classifier3, test_set3))"
   ]
  },
  {
   "cell_type": "code",
   "execution_count": 51,
   "metadata": {},
   "outputs": [
    {
     "name": "stdout",
     "output_type": "stream",
     "text": [
      "199\n"
     ]
    }
   ],
   "source": [
    "errors = geterrors(test_names)\n",
    "print(len(errors))"
   ]
  },
  {
   "cell_type": "code",
   "execution_count": null,
   "metadata": {
    "collapsed": true
   },
   "outputs": [],
   "source": [
    "def gender_features(word):\n",
    "    return{'last_letter': word[-1]}"
   ]
  }
 ],
 "metadata": {
  "kernelspec": {
   "display_name": "Python 2",
   "language": "python",
   "name": "python2"
  },
  "language_info": {
   "codemirror_mode": {
    "name": "ipython",
    "version": 2
   },
   "file_extension": ".py",
   "mimetype": "text/x-python",
   "name": "python",
   "nbconvert_exporter": "python",
   "pygments_lexer": "ipython2",
   "version": "2.7.13"
  }
 },
 "nbformat": 4,
 "nbformat_minor": 2
}
